{
 "cells": [
  {
   "cell_type": "markdown",
   "id": "43bb5a20",
   "metadata": {},
   "source": [
    "1)it is a rectangualar box that is made up of vertical and horizontal rows"
   ]
  },
  {
   "cell_type": "markdown",
   "id": "ae6bf521",
   "metadata": {},
   "source": [
    "2)yes we can protect by keeping password\n",
    "in menubar,go to review ten protect sheet and then setpassword"
   ]
  },
  {
   "cell_type": "markdown",
   "id": "911ee03f",
   "metadata": {},
   "source": [
    "3)select the sheet which we want to copy or move.then click and select move or copy .then select create copy.then click ok"
   ]
  },
  {
   "cell_type": "code",
   "execution_count": null,
   "id": "79f8c231",
   "metadata": {},
   "outputs": [],
   "source": [
    "4)ctlr+n"
   ]
  },
  {
   "cell_type": "markdown",
   "id": "fe0a6865",
   "metadata": {},
   "source": [
    "5)active cell,formula bar,tool bar,status bar,row headings,zoom percentage,office button"
   ]
  },
  {
   "cell_type": "code",
   "execution_count": null,
   "id": "331e7787",
   "metadata": {},
   "outputs": [],
   "source": [
    "6)it is used when calculations need to be repeated"
   ]
  }
 ],
 "metadata": {
  "kernelspec": {
   "display_name": "Python 3 (ipykernel)",
   "language": "python",
   "name": "python3"
  },
  "language_info": {
   "codemirror_mode": {
    "name": "ipython",
    "version": 3
   },
   "file_extension": ".py",
   "mimetype": "text/x-python",
   "name": "python",
   "nbconvert_exporter": "python",
   "pygments_lexer": "ipython3",
   "version": "3.9.12"
  }
 },
 "nbformat": 4,
 "nbformat_minor": 5
}
